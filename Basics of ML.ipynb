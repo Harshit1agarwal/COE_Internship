{
 "cells": [
  {
   "cell_type": "markdown",
   "id": "d1c6d59c",
   "metadata": {},
   "source": [
    "### Bayes Theorem for medical diagnosis Problem "
   ]
  },
  {
   "cell_type": "code",
   "execution_count": 1,
   "id": "e004ad13",
   "metadata": {},
   "outputs": [
    {
     "name": "stdout",
     "output_type": "stream",
     "text": [
      "Probability of having the disease given a positive test result: 0.0194\n"
     ]
    }
   ],
   "source": [
    "\n",
    "def bayes_theorem(p_disease, p_positive_given_disease, p_negative_given_no_disease):\n",
    "    p_no_disease = 1 - p_disease\n",
    "    p_positive_given_no_disease = 1 - p_negative_given_no_disease\n",
    "    \n",
    "    p_positive = (p_positive_given_disease * p_disease) + (p_positive_given_no_disease * p_no_disease)\n",
    "    \n",
    "    p_disease_given_positive = (p_positive_given_disease * p_disease) / p_positive\n",
    "    \n",
    "    return p_disease_given_positive\n",
    "\n",
    "p_disease = 0.001\n",
    "p_positive_given_disease = 0.99\n",
    "p_negative_given_no_disease = 0.95\n",
    "\n",
    "result = bayes_theorem(p_disease, p_positive_given_disease, p_negative_given_no_disease)\n",
    "print(f\"Probability of having the disease given a positive test result: {result:.4f}\")"
   ]
  },
  {
   "cell_type": "markdown",
   "id": "1ef328c7",
   "metadata": {},
   "source": [
    "#### Eigen Values and Eigen Vectors"
   ]
  },
  {
   "cell_type": "code",
   "execution_count": 2,
   "id": "157f67c0",
   "metadata": {},
   "outputs": [
    {
     "name": "stdout",
     "output_type": "stream",
     "text": [
      "Eigenvalues:\n",
      "[3. 2.]\n",
      "Eigenvectors:\n",
      "[[0.89442719 0.70710678]\n",
      " [0.4472136  0.70710678]]\n"
     ]
    }
   ],
   "source": [
    "\n",
    "import numpy as np\n",
    "\n",
    "A = np.array([[4, -2],\n",
    "              [1, 1]])\n",
    "\n",
    "eigenvalues, eigenvectors = np.linalg.eig(A)\n",
    "\n",
    "print(\"Eigenvalues:\")\n",
    "print(eigenvalues)\n",
    "print(\"Eigenvectors:\")\n",
    "print(eigenvectors)\n"
   ]
  },
  {
   "cell_type": "markdown",
   "id": "499b4ddf",
   "metadata": {},
   "source": [
    "#### Diterminant And inverse of a matrix if possible "
   ]
  },
  {
   "cell_type": "code",
   "execution_count": 3,
   "id": "e150abfb",
   "metadata": {},
   "outputs": [
    {
     "name": "stdout",
     "output_type": "stream",
     "text": [
      "Determinant: 1.0000\n",
      "Inverse:\n",
      "[[-24.  18.   5.]\n",
      " [ 20. -15.  -4.]\n",
      " [ -5.   4.   1.]]\n"
     ]
    }
   ],
   "source": [
    "B = np.array([[1, 2, 3],\n",
    "              [0, 1, 4],\n",
    "              [5, 6, 0]])\n",
    "\n",
    "det = np.linalg.det(B)\n",
    "print(f\"Determinant: {det:.4f}\")\n",
    "\n",
    "if det != 0:\n",
    "    inverse = np.linalg.inv(B)\n",
    "    print(\"Inverse:\")\n",
    "    print(inverse)\n",
    "else:\n",
    "    print(\"The matrix is singular and does not have an inverse.\")\n"
   ]
  },
  {
   "cell_type": "markdown",
   "id": "c2a90a10",
   "metadata": {},
   "source": [
    "#### Properties and Applications of the Normal Distribution and Calculate Probabilities\n",
    "#### The Normal distribution is characterized by its mean (μ) and standard deviation (σ). It has several important properties:\n",
    "\n",
    "##### Symmetric about the mean\n",
    "##### Mean, median, and mode are equal\n",
    "##### The area under the curve represents probabilities and the total area is 1"
   ]
  },
  {
   "cell_type": "code",
   "execution_count": 4,
   "id": "f7e3b534",
   "metadata": {},
   "outputs": [
    {
     "name": "stdout",
     "output_type": "stream",
     "text": [
      "Probability of a value less than or equal to 1.96: 0.9750\n",
      "Probability of a value between -1.96 and 1.96: 0.9500\n"
     ]
    }
   ],
   "source": [
    "from scipy.stats import norm\n",
    "\n",
    "# Parameters for the Normal distribution\n",
    "mu = 0\n",
    "sigma = 1\n",
    "\n",
    "# Calculate the probability of a value less than or equal to x\n",
    "x = 1.96\n",
    "probability = norm.cdf(x, mu, sigma)\n",
    "print(f\"Probability of a value less than or equal to {x}: {probability:.4f}\")\n",
    "\n",
    "# Calculate the probability of a value within a range\n",
    "x1 = -1.96\n",
    "x2 = 1.96\n",
    "probability_range = norm.cdf(x2, mu, sigma) - norm.cdf(x1, mu, sigma)\n",
    "print(f\"Probability of a value between {x1} and {x2}: {probability_range:.4f}\")\n"
   ]
  },
  {
   "cell_type": "code",
   "execution_count": null,
   "id": "52b684c6",
   "metadata": {},
   "outputs": [],
   "source": []
  }
 ],
 "metadata": {
  "kernelspec": {
   "display_name": "Python 3 (ipykernel)",
   "language": "python",
   "name": "python3"
  },
  "language_info": {
   "codemirror_mode": {
    "name": "ipython",
    "version": 3
   },
   "file_extension": ".py",
   "mimetype": "text/x-python",
   "name": "python",
   "nbconvert_exporter": "python",
   "pygments_lexer": "ipython3",
   "version": "3.11.5"
  }
 },
 "nbformat": 4,
 "nbformat_minor": 5
}
